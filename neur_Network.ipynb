{
 "cells": [
  {
   "cell_type": "code",
   "execution_count": 1,
   "metadata": {},
   "outputs": [],
   "source": [
    "import numpy\n",
    "import scipy.special\n",
    "import matplotlib.pyplot"
   ]
  },
  {
   "cell_type": "code",
   "execution_count": 2,
   "metadata": {},
   "outputs": [],
   "source": [
    "class neuralNetwork:\n",
    "    def __init__(self, input_nodes, hidden_nodes, output_nodes, learning_rate):\n",
    "        self.inodes = input_nodes\n",
    "        self.hnodes = hidden_nodes\n",
    "        self.onodes = output_nodes\n",
    "        \n",
    "        self.lr = learning_rate\n",
    "        \n",
    "        self.wih = numpy.random.normal(0.0, pow(self.hnodes, -0.5), (self.hnodes, self.inodes))\n",
    "        self.who = numpy.random.normal(0.0, pow(self.onodes, -0.5), (self.onodes, self.hnodes))\n",
    "        \n",
    "        self.activation_function = lambda x: scipy.special.expit(x)\n",
    "        \n",
    "        \n",
    "    \n",
    "    def train(self, inputs_list, targets_list):\n",
    "        inputs = numpy.array(inputs_list, ndmin = 2).T\n",
    "        \n",
    "        hidden_inputs = numpy.dot(self.wih, inputs)\n",
    "        hidden_outputs = self.activation_function(hidden_inputs)\n",
    "        \n",
    "        output_inputs = numpy.dot(self.who, hidden_outputs)\n",
    "        output_finals = self.activation_function(output_inputs)\n",
    "        targets = numpy.array(targets_list, ndmin = 2).T\n",
    "        \n",
    "        #calculating main output errors\n",
    "        #here starts error propagation algorithm\n",
    "        output_errors = targets - output_finals\n",
    "        hidden_errors = numpy.dot(self.who.T, output_errors)\n",
    "        \n",
    "        #correcting weight coefficients\n",
    "        self.who += self.lr * numpy.dot(output_errors * output_finals * (1 - output_finals), \n",
    "                                        numpy.transpose(hidden_outputs))\n",
    "        self.wih += self.lr * numpy.dot(hidden_errors * hidden_outputs * (1 - hidden_outputs),\n",
    "                                        numpy.transpose(inputs))\n",
    "        \n",
    "        \n",
    "    \n",
    "    def query(self, inputs_list):\n",
    "        #transforming incoming list to 2d array\n",
    "        inputs = numpy.array(inputs_list, ndmin = 2).T\n",
    "        \n",
    "        hidden_inputs = numpy.dot(self.wih, inputs)\n",
    "        hidden_outputs = self.activation_function(hidden_inputs)\n",
    "        \n",
    "        output_inputs = numpy.dot(self.who, hidden_outputs)\n",
    "        output_finals = self.activation_function(output_inputs)\n",
    "        \n",
    "        return output_finals"
   ]
  },
  {
   "cell_type": "code",
   "execution_count": 15,
   "metadata": {},
   "outputs": [],
   "source": [
    "#initialising NN\n",
    "\n",
    "input_nodes = 784 #we have 28 * 28 = 784 image\n",
    "hidden_nodes = 200 # we choose it by ourselves\n",
    "output_nodes = 10 #we need to classify ten digits\n",
    "learning_rate = 0.02\n",
    "epochs = 8\n",
    "    \n",
    "nn = neuralNetwork(input_nodes, hidden_nodes, output_nodes, learning_rate)"
   ]
  },
  {
   "cell_type": "code",
   "execution_count": 16,
   "metadata": {},
   "outputs": [],
   "source": [
    "#uploading short training dataset\n",
    "\n",
    "train_data_file = open(\"mnist_datasets/mnist_train.csv\", 'r')\n",
    "train_data_list = train_data_file.readlines()\n",
    "train_data_file.close()"
   ]
  },
  {
   "cell_type": "code",
   "execution_count": 17,
   "metadata": {},
   "outputs": [],
   "source": [
    "#training NN using training dataset\n",
    "for e in range(epochs):\n",
    "    for digit in train_data_list:\n",
    "        vals = digit.split(',')\n",
    "\n",
    "        #transforming input data to correct data type(all valuse should be form 0.01 to 1)\n",
    "        correct_inputs = (numpy.asfarray(vals[1:]) / 255.0 * 0.99) + 0.01\n",
    "\n",
    "        #correcting targets\n",
    "        targets = numpy.zeros(output_nodes) + 0.01\n",
    "        targets[int(vals[0])] = 0.99\n",
    "    \n",
    "        nn.train(correct_inputs, targets)"
   ]
  },
  {
   "cell_type": "code",
   "execution_count": 18,
   "metadata": {},
   "outputs": [],
   "source": [
    "#uploading test dataset\n",
    "\n",
    "test_data_file = open(\"mnist_datasets/mnist_test.csv\", 'r')\n",
    "test_data_list = test_data_file.readlines()\n",
    "test_data_file.close()\n",
    "\n",
    "#here would be located right or wrong answers - 1 or 0\n",
    "scores = []"
   ]
  },
  {
   "cell_type": "code",
   "execution_count": 19,
   "metadata": {},
   "outputs": [],
   "source": [
    "for digit in test_data_list:\n",
    "    test_vals = digit.split(',')\n",
    "    correct_label = int(test_vals[0])\n",
    "    \n",
    "    \n",
    "    correct_inputs = (numpy.asfarray(test_vals[1:]) / 255.0 * 0.99) + 0.01\n",
    "    outputs = nn.query(correct_inputs)\n",
    "    \n",
    "    nn_label = numpy.argmax(outputs)\n",
    "    \n",
    "    if(nn_label == correct_label):\n",
    "        scores.append(1)\n",
    "    else:\n",
    "        scores.append(0)\n",
    "    "
   ]
  },
  {
   "cell_type": "code",
   "execution_count": 20,
   "metadata": {},
   "outputs": [
    {
     "name": "stdout",
     "output_type": "stream",
     "text": [
      "NN Efficiency:  0.9736\n"
     ]
    }
   ],
   "source": [
    "scores_array = numpy.asarray(scores)\n",
    "efficiency = scores_array.sum() / scores_array.size\n",
    "print(\"NN Efficiency: \", efficiency)"
   ]
  },
  {
   "cell_type": "code",
   "execution_count": null,
   "metadata": {},
   "outputs": [],
   "source": []
  },
  {
   "cell_type": "code",
   "execution_count": null,
   "metadata": {},
   "outputs": [],
   "source": []
  }
 ],
 "metadata": {
  "kernelspec": {
   "display_name": "Python 3",
   "language": "python",
   "name": "python3"
  },
  "language_info": {
   "codemirror_mode": {
    "name": "ipython",
    "version": 3
   },
   "file_extension": ".py",
   "mimetype": "text/x-python",
   "name": "python",
   "nbconvert_exporter": "python",
   "pygments_lexer": "ipython3",
   "version": "3.6.5"
  }
 },
 "nbformat": 4,
 "nbformat_minor": 2
}
